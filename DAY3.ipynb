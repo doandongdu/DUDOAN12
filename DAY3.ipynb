{
  "nbformat": 4,
  "nbformat_minor": 0,
  "metadata": {
    "colab": {
      "provenance": [],
      "authorship_tag": "ABX9TyNx9CwAgcNUX01rzul/DtIP",
      "include_colab_link": true
    },
    "kernelspec": {
      "name": "python3",
      "display_name": "Python 3"
    },
    "language_info": {
      "name": "python"
    }
  },
  "cells": [
    {
      "cell_type": "markdown",
      "metadata": {
        "id": "view-in-github",
        "colab_type": "text"
      },
      "source": [
        "<a href=\"https://colab.research.google.com/github/doandongdu/DUDOAN12/blob/main/DAY3.ipynb\" target=\"_parent\"><img src=\"https://colab.research.google.com/assets/colab-badge.svg\" alt=\"Open In Colab\"/></a>"
      ]
    },
    {
      "cell_type": "code",
      "execution_count": null,
      "metadata": {
        "id": "OApYq4C0uwPA",
        "colab": {
          "base_uri": "https://localhost:8080/"
        },
        "outputId": "6c94ff74-a906-4c80-9b25-30e5db4397be"
      },
      "outputs": [
        {
          "output_type": "stream",
          "name": "stdout",
          "text": [
            "Looking in indexes: https://pypi.org/simple, https://us-python.pkg.dev/colab-wheels/public/simple/\n",
            "Collecting scikit-fuzzy\n",
            "  Downloading scikit-fuzzy-0.4.2.tar.gz (993 kB)\n",
            "\u001b[K     |████████████████████████████████| 993 kB 5.6 MB/s \n",
            "\u001b[?25hRequirement already satisfied: numpy>=1.6.0 in /usr/local/lib/python3.7/dist-packages (from scikit-fuzzy) (1.21.6)\n",
            "Requirement already satisfied: scipy>=0.9.0 in /usr/local/lib/python3.7/dist-packages (from scikit-fuzzy) (1.7.3)\n",
            "Requirement already satisfied: networkx>=1.9.0 in /usr/local/lib/python3.7/dist-packages (from scikit-fuzzy) (2.6.3)\n",
            "Building wheels for collected packages: scikit-fuzzy\n",
            "  Building wheel for scikit-fuzzy (setup.py) ... \u001b[?25l\u001b[?25hdone\n",
            "  Created wheel for scikit-fuzzy: filename=scikit_fuzzy-0.4.2-py3-none-any.whl size=894089 sha256=8c164eaa32344a7784d0dc36eb421b9d51ba65a784aaae7b87381823f28de19a\n",
            "  Stored in directory: /root/.cache/pip/wheels/d5/74/fc/38588a3d2e3f34f74588e6daa3aa5b0a322bd6f9420a707131\n",
            "Successfully built scikit-fuzzy\n",
            "Installing collected packages: scikit-fuzzy\n",
            "Successfully installed scikit-fuzzy-0.4.2\n"
          ]
        }
      ],
      "source": [
        "pip install scikit-fuzzy"
      ]
    },
    {
      "cell_type": "code",
      "source": [
        "import numpy as np\n",
        "import skfuzzy as fuzz\n",
        "x = np.arange(11)\n",
        "mfx = fuzz.trimf(x,[0,5,10])"
      ],
      "metadata": {
        "id": "-p5jK8tm1LDw"
      },
      "execution_count": null,
      "outputs": []
    },
    {
      "cell_type": "code",
      "source": [
        "import numpy as np\n",
        "import skfuzzy as fuzz\n",
        "from skfuzzy import control as ctrl\n",
        "food = ctrl.Antecedent(np.arange(0,11,1),'food')\n",
        "service = ctrl.Antecedent(np.arange(0,11,1),'service')\n",
        "tip = ctrl.Consequent(np.arange(10,20,1),'tip')\n",
        "food['poor'] = fuzz.trimf(food.universe,[0,0,5])\n",
        "food['average'] = fuzz.trimf(food.universe,[0,5,10])\n",
        "food['good'] = fuzz.trimf(food.universe,[18,22,25])\n",
        "service['poor'] = fuzz.trimf(service.universe,[0,0,5])\n",
        "service['average'] = fuzz.trimf(service.universe,[0,5,10])\n",
        "service['good'] = fuzz.trimf(service.universe,[18,22,25])\n",
        "tip['less'] = fuzz.trimf(tip.universe,[0,0,5])\n",
        "tip['normal'] = fuzz.trimf(tip.universe,[0,5,10])\n",
        "tip['much'] = fuzz.trimf(tip.universe,[18,22,25])\n",
        "food.view()\n",
        "service.view()\n",
        "tip.view()"
      ],
      "metadata": {
        "id": "BeoVesQg1L_T"
      },
      "execution_count": null,
      "outputs": []
    },
    {
      "cell_type": "code",
      "source": [
        "rule1 = ctrl.Rule(food['poor'], service['poor'], tip['less'])\n",
        "rule2 = ctrl.Rule(food['average'], service['average'], tip['normal'])\n",
        "rule3 = ctrl.Rule(food['good'], service['good'], tip['much'])\n",
        "rule4 = ctrl.Rule(food['poor'], service['average'], tip['less'])\n",
        "rule5 = ctrl.Rule(food['average'], service['poor'], tip['less'])\n",
        "rule6 = ctrl.Rule(food['poor'], service['good'], tip['normal'])\n",
        "rule7 = ctrl.Rule(food['good'], service['poor'], tip['normal'])\n",
        "rule8 = ctrl.Rule(food['average'], service['good'], tip['much'])\n",
        "rule9 = ctrl.Rule(food['good'], service['average'], tip['much'])\n",
        "\n",
        "tipping_ctrl = ctrl.ControlSystem([rule1, rule2, rule3, rule4, rule5, rule6, rule7, rule8, rule9])\n",
        "tipping = ctrl.ControlSystem(tipping_ctrl)\n",
        "tipping.input['food'] = 6.5\n",
        "tipping.input['service'] = 7.5\n",
        "tipping.complete()\n",
        "print(tipping.input['tip'])\n",
        "tip.view(sim.tipping)\n"
      ],
      "metadata": {
        "id": "4qwYKgH93Y0U"
      },
      "execution_count": null,
      "outputs": []
    },
    {
      "cell_type": "code",
      "source": [
        "import numpy as np\n",
        "import skfuzzy as fuzz\n",
        "from skfuzzy import control as ctrl\n",
        "time = ctrl.Antecedent(np.arange('very fast','fast','normal','slow','very slow'),'time')\n",
        "rice = ctrl.Antecedent(np.arange('very less','less','average','much','very much'),'rice')\n",
        "power = ctrl.Consequent(np.arange('super slow','very low','low','normal','high','very high','super high'),'power')\n",
        "time['very fast'] = fuzz.trimf(time.universe,[0,0,10])\n",
        "time['fast'] = fuzz.trimf(time.universe,[0,10,20])\n",
        "time['normal'] = fuzz.trimf(time.universe,[10,20,40])\n",
        "time['slow'] = fuzz.trimf(time.universe,[20,40,60])\n",
        "time['very slow'] = fuzz.trimf(time.universe,[60,80,120])\n"
      ],
      "metadata": {
        "id": "n8CyIgTp_12j"
      },
      "execution_count": null,
      "outputs": []
    },
    {
      "cell_type": "code",
      "source": [
        "import numpy as np\n",
        "import skfuzzy as fuzz\n",
        "from skfuzzy import control as ctrl\n",
        "food = ctrl.Antecedent(np.arange(0,11,1),'food')\n",
        "service = ctrl.Antecedent(np.arange(0,11,1),'service')\n",
        "tip = ctrl.Consequent(np.arange(10,26,1),'tip')\n",
        "food['poor']=fuzz.trimf(food.universe,[0,0,5])\n",
        "food['average']=fuzz.trimf(food.universe,[0,5,10])\n",
        "food['good']=fuzz.trimf(food.universe,[5,10,10])\n",
        "service['poor']=fuzz.trimf(service.universe,[0,0,5])\n",
        "service['average']=fuzz.trimf(service.universe,[0,5,10])\n",
        "service['good']=fuzz.trimf(service.universe,[5,10,10])\n",
        "tip['less']=fuzz.trimf(tip.universe,[10,14,18])\n",
        "tip['normal']=fuzz.trimf(tip.universe,[14,18,22])\n",
        "tip['much']=fuzz.trimf(tip.universe,[18,22,25])\n",
        "rule1= ctrl.Rule(food['poor']&service['poor'],tip['less'])\n",
        "rule2= ctrl.Rule(food['poor']&service['average'],tip['less'])\n",
        "rule3= ctrl.Rule(food['poor']&service['good'],tip['normal'])\n",
        "rule4= ctrl.Rule(food['average']&service['poor'],tip['less'])\n",
        "rule5= ctrl.Rule(food['average']&service['average'],tip['normal'])\n",
        "rule6= ctrl.Rule(food['average']&service['good'],tip['much'])\n",
        "rule7= ctrl.Rule(food['good']&service['poor'],tip['normal'])\n",
        "rule8= ctrl.Rule(food['good']&service['average'],tip['much'])\n",
        "rule9= ctrl.Rule(food['good']&service['good'],tip['much'])\n",
        "tipping_rule=ctrl.ControlSystem([rule1,rule2,rule3,rule4,rule5,rule6,rule7,rule8,rule9])\n",
        "tipping= ctrl.ControlSystemSimulation(tipping_rule)\n",
        "tipping.input['food']=6.2\n",
        "tipping.input['service']=7.5\n",
        "tipping.compute()\n",
        "print(tipping.output['tip'])\n",
        "tip.view(sim=tipping)"
      ],
      "metadata": {
        "id": "DiNYZHwcuvJw"
      },
      "execution_count": null,
      "outputs": []
    },
    {
      "cell_type": "code",
      "source": [
        "#noi com dien\n",
        "import numpy as np\n",
        "import skfuzzy as fuzz\n",
        "from skfuzzy import control as ctrl\n",
        "ws = ctrl.Antecedent(np.arange(0.7,3.2,0.1),'ws')\n",
        "tp = ctrl.Antecedent(np.arange(20.4,41.3,0.1),'tp')\n",
        "rf = ctrl.Consequent(np.arange(0.2,9.2,0.1),'rf')\n",
        "\n",
        "ws['vl'] = fuzz.trimf(ws.universe,[0.7,0.7,1.3])\n",
        "ws['l'] = fuzz.trimf(ws.universe,[0.7,1.3,1.9])\n",
        "ws['n'] = fuzz.trimf(ws.universe,[1.3,1.9,2.5])\n",
        "ws['h'] = fuzz.trimf(ws.universe,[1.9,2.5,3.1])\n",
        "ws['vh'] = fuzz.trimf(ws.universe,[2.5,3.1,3.1])\n",
        "tp['vl'] = fuzz.trimf(tp.universe,[20.4,20.4,25.6])\n",
        "tp['l'] = fuzz.trimf(tp.universe,[20.4,25.6,30.8])\n",
        "tp['n'] = fuzz.trimf(tp.universe,[25.6,30.8,36])\n",
        "tp['h'] = fuzz.trimf(tp.universe,[30.8,36,41.2])\n",
        "tp['vh'] = fuzz.trimf(tp.universe,[36,41.2,41.2])\n",
        "rf['vl'] = fuzz.trimf(rf.universe,[0.2,1.68,3.1])\n",
        "rf['l'] = fuzz.trimf(rf.universe,[1.68,3.1,4.65])\n",
        "rf['n'] = fuzz.trimf(rf.universe,[3.1,4.65,6.1])\n",
        "rf['h'] = fuzz.trimf(rf.universe,[4.65,6.1,7.6])\n",
        "rf['vh'] = fuzz.trimf(rf.universe,[6.1,7.6,9.1])\n",
        "\n",
        "rule1= ctrl.Rule(ws['vl']&tp['vl'],rf['vl'])\n",
        "rule2= ctrl.Rule(ws['vl']&tp['l'],rf['vl'])\n",
        "rule3= ctrl.Rule(ws['vl']&tp['n'],rf['vl'])\n",
        "rule4= ctrl.Rule(ws['vl']&tp['h'],rf['vl'])\n",
        "rule5= ctrl.Rule(ws['vl']&tp['vh'],rf['vl'])\n",
        "\n",
        "rule6= ctrl.Rule(ws['l']&tp['vl'],rf['vl'])\n",
        "rule7= ctrl.Rule(ws['l']&tp['l'],rf['vl'])\n",
        "rule8= ctrl.Rule(ws['l']&tp['n'],rf['l'])\n",
        "rule9= ctrl.Rule(ws['l']&tp['h'],rf['l'])\n",
        "rule10= ctrl.Rule(ws['l']&tp['vh'],rf['n'])\n",
        "\n",
        "rule11= ctrl.Rule(ws['n']&tp['vl'],rf['l'])\n",
        "rule12= ctrl.Rule(ws['n']&tp['l'],rf['l'])\n",
        "rule13= ctrl.Rule(ws['n']&tp['n'],rf['n'])\n",
        "rule14= ctrl.Rule(ws['n']&tp['h'],rf['n'])\n",
        "rule15= ctrl.Rule(ws['n']&tp['vh'],rf['h'])\n",
        "\n",
        "rule16= ctrl.Rule(ws['h']&tp['vl'],rf['l'])\n",
        "rule17= ctrl.Rule(ws['h']&tp['l'],rf['n'])\n",
        "rule18= ctrl.Rule(ws['h']&tp['n'],rf['n'])\n",
        "rule19= ctrl.Rule(ws['h']&tp['h'],rf['h'])\n",
        "rule20= ctrl.Rule(ws['h']&tp['vh'],rf['vh'])\n",
        "\n",
        "rule21= ctrl.Rule(ws['vh']&tp['vl'],rf['l'])\n",
        "rule22= ctrl.Rule(ws['vh']&tp['l'],rf['n'])\n",
        "rule23= ctrl.Rule(ws['vh']&tp['n'],rf['h'])\n",
        "rule24= ctrl.Rule(ws['vh']&tp['h'],rf['vh'])\n",
        "rule25= ctrl.Rule(ws['vh']&tp['vh'],rf['vh'])\n",
        "\n",
        "rf_rule=ctrl.ControlSystem([rule1,rule2,rule3,rule4,rule5,rule6,rule7,rule8,rule9,rule10,rule11,rule12,rule13,rule14,rule15,rule16,rule17,rule18,rule19,rule20,rule21,rule22,rule23,rule24,rule25])\n",
        "rainfall= ctrl.ControlSystemSimulation(rf_rule)\n",
        "rainfall.input['ws']=1.8\n",
        "rainfall.input['tp']=31\n",
        "rainfall.compute()\n",
        "print(rainfall.output['rf'])\n",
        "rf.view(sim=rainfall)"
      ],
      "metadata": {
        "id": "vol0PgfA0Bbt"
      },
      "execution_count": null,
      "outputs": []
    }
  ]
}