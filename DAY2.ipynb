{
  "nbformat": 4,
  "nbformat_minor": 0,
  "metadata": {
    "colab": {
      "provenance": [],
      "authorship_tag": "ABX9TyNRG3r4bwxQj3/emejBm77J",
      "include_colab_link": true
    },
    "kernelspec": {
      "name": "python3",
      "display_name": "Python 3"
    },
    "language_info": {
      "name": "python"
    }
  },
  "cells": [
    {
      "cell_type": "markdown",
      "metadata": {
        "id": "view-in-github",
        "colab_type": "text"
      },
      "source": [
        "<a href=\"https://colab.research.google.com/github/doandongdu/DUDOAN12/blob/main/DAY2.ipynb\" target=\"_parent\"><img src=\"https://colab.research.google.com/assets/colab-badge.svg\" alt=\"Open In Colab\"/></a>"
      ]
    },
    {
      "cell_type": "code",
      "execution_count": null,
      "metadata": {
        "id": "DJtKy9nyjrWT"
      },
      "outputs": [],
      "source": [
        "from openpyxl import Workbook\n",
        "wb = Workbook()\n",
        "sheet = wb.active\n",
        "sheet ['A1'] = 'Nguyen Van A'\n",
        "sheet ['B1'] = '20104050'\n",
        "sheet ['A2'] = 'Tran Thi B'\n",
        "sheet ['B2'] = ' 20104055'\n",
        "wb.save ('test.xlsx')"
      ]
    },
    {
      "cell_type": "code",
      "source": [
        "import openpyxl\n",
        "wb = openpyxl.load_workbook('test.xlsx')\n",
        "sheet = wb.active\n",
        "C1 = sheet['A1']\n",
        "C2 = sheet['B1']\n",
        "C3 = sheet.cell(row = 2, column = 1)\n",
        "C4 = sheet.cell(row = 2, column = 2)\n",
        "print(C1.value, C3.value)\n",
        "print(C2.value, C4.value)"
      ],
      "metadata": {
        "id": "n9VQ5YgPsnqT"
      },
      "execution_count": null,
      "outputs": []
    },
    {
      "cell_type": "code",
      "source": [
        "import openpyxl\n",
        "wb = openpyxl.Workbook()\n",
        "sheet = wb.active\n",
        "c1 = sheet.cell(row = 1, column = 1)\n",
        "c1.value = 'Dung A Duoi'\n",
        "c2 = sheet.cell(row = 1, column = 2)\n",
        "c2.value = 'Cuong Toi'\n",
        "c3 = sheet['A2']\n",
        "c3.value = 'Phe co'\n",
        "c4 = sheet['B2']\n",
        "c4.value = 'Phe da'\n",
        "wb.save('test2.xlsx')"
      ],
      "metadata": {
        "id": "uMu1N_HjtrUY"
      },
      "execution_count": null,
      "outputs": []
    },
    {
      "cell_type": "code",
      "source": [
        "import openpyxl\n",
        "wb = openpyxl.Workbook()\n",
        "sheet = wb.active\n",
        "wb.create_sheet(index = 1, title = 'KCN')\n",
        "wb.save('test2.xlsx')"
      ],
      "metadata": {
        "id": "47Fv42fjyEtk"
      },
      "execution_count": null,
      "outputs": []
    },
    {
      "cell_type": "code",
      "source": [
        "import openpyxl\n",
        "path = 'test2.xlsx'\n",
        "wb_obj = openpyxl.load_workbook(path)\n",
        "sheet_obj = wb_obj.active\n",
        "print(sheet_obj.max_row)\n",
        "cell_obj = sheet_obj.cell(row = 1, column = 1)\n",
        "print(sheet_obj.max_column)"
      ],
      "metadata": {
        "id": "bzRooUK43Z6Y"
      },
      "execution_count": null,
      "outputs": []
    },
    {
      "cell_type": "code",
      "source": [
        "import openpyxl\n",
        "path = 'test2.xlsx'\n",
        "wb_obj = openpyxl.load_workbook(path)\n",
        "sheet_obj = wb_obj.active\n",
        "max_column = sheet_obj.max_column\n",
        "max_row = sheet_obj.max_row\n",
        "for i in range(1, max_column):\n",
        "  cell_obj1 = sheet_obj.cell(row = 1, column = 1)\n",
        "  print(cell_obj1.value)\n",
        "for i in range(1, max_column):\n",
        "  cell_obj3 = sheet_obj.cell(row = 2, column = 1)\n",
        "  print(cell_obj3.value)\n",
        "for i in range(1, max_row):\n",
        "  cell_obj2 = sheet_obj.cell(row = 1, column = 2)\n",
        "  print(cell_obj2.value)\n",
        "for i in range(1, max_row):\n",
        "  cell_obj4 = sheet_obj.cell(row = 2, column = 2)\n",
        "  print(cell_obj4.value)"
      ],
      "metadata": {
        "id": "6EH53SvH5OJg"
      },
      "execution_count": null,
      "outputs": []
    },
    {
      "cell_type": "code",
      "source": [
        "import openpyxl\n",
        "path = 'test2.xlsx'\n",
        "wb_obj = openpyxl.load_workbook(path)\n",
        "sheet_obj = wb_obj.active\n",
        "max_column = sheet_obj.max_column\n",
        "max_row = sheet_obj.max_row\n",
        "for i in range(1, max_column + 1):\n",
        "  cell_obj1 = sheet_obj.cell(row = 1, column = 1)\n",
        "  print(cell_obj1.value, end = ' ')\n",
        "for i in range(1, max_column + 1):\n",
        "  cell_obj3 = sheet_obj.cell(row = 2, column = 1)\n",
        "  print(cell_obj3.value, end = ' ')\n",
        "for i in range(1, max_row + 1):\n",
        "  cell_obj2 = sheet_obj.cell(row = 1, column = 2)\n",
        "  print(cell_obj2.value, end = ' ')\n",
        "for i in range(1, max_row + 1):\n",
        "  cell_obj4 = sheet_obj.cell(row = 2, column = 2)\n",
        "  print(cell_obj4.value, end = ' ')"
      ],
      "metadata": {
        "id": "yxJCcz_V5sQm"
      },
      "execution_count": null,
      "outputs": []
    },
    {
      "cell_type": "code",
      "source": [
        "import matplotlib.pyplot as plt\n",
        "import numpy as np\n",
        "x = np.arange(6)\n",
        "y = x + 1\n",
        "plt.plot(x,y, 'o--')\n",
        "plt.show"
      ],
      "metadata": {
        "id": "-NOGxSXpFrve"
      },
      "execution_count": null,
      "outputs": []
    },
    {
      "cell_type": "code",
      "source": [
        "import matplotlib.pyplot as plt\n",
        "import numpy as np\n",
        "x = np.arange(6)\n",
        "y = x + 1\n",
        "plt.plot(x,y, 'o--')\n",
        "plt.plot(x,-y, 'o--')\n",
        "plt.show"
      ],
      "metadata": {
        "id": "4uxQ6VGHk_tg"
      },
      "execution_count": null,
      "outputs": []
    },
    {
      "cell_type": "code",
      "source": [
        "import matplotlib.pyplot as plt\n",
        "import numpy as np\n",
        "x = np.arange(6)\n",
        "y = x + 1\n",
        "plt.plot(x,y, 'o--')\n",
        "plt.plot(x,-y, 'o--')\n",
        "plt. title('y=x và y=-x')\n",
        "plt.xlabel('x')\n",
        "plt.ylabel('y')\n",
        "plt.show"
      ],
      "metadata": {
        "id": "0z7ea-gKlCVn"
      },
      "execution_count": null,
      "outputs": []
    },
    {
      "cell_type": "code",
      "source": [
        "import matplotlib.pyplot as plt\n",
        "import numpy as np\n",
        "x = np.arange(6)\n",
        "y = x + 1\n",
        "plt.plot(x,y, 'o--')\n",
        "plt.plot(x,-y, 'o--')\n",
        "plt. title('y=x và y=-x')\n",
        "plt.xlabel('x')\n",
        "plt.ylabel('y')\n",
        "plt.grid('on')\n",
        "plt.show"
      ],
      "metadata": {
        "id": "wJRzdRuElEsi"
      },
      "execution_count": null,
      "outputs": []
    },
    {
      "cell_type": "code",
      "source": [
        "import matplotlib.pyplot as plt\n",
        "import numpy as np\n",
        "x = np.arange(6)\n",
        "y = x + 1\n",
        "plt.plot(x,y, 'o--')\n",
        "plt.plot(x,-y, 'o--')\n",
        "plt. title('y=x và y=-x')\n",
        "plt.axis('off')\n",
        "plt.show"
      ],
      "metadata": {
        "id": "Qi03puVylHAE"
      },
      "execution_count": null,
      "outputs": []
    },
    {
      "cell_type": "code",
      "source": [
        "import matplotlib.pyplot as plt #chia theo số thập phânphân\n",
        "import numpy as np\n",
        "N=16\n",
        "x=np.linspace(0,15,16)\n",
        "y=x\n",
        "plt.plot(x,y, 'o--')\n",
        "plt.axis('off')\n",
        "plt.show"
      ],
      "metadata": {
        "id": "cNEA08yWlJP3"
      },
      "execution_count": null,
      "outputs": []
    },
    {
      "cell_type": "code",
      "source": [
        "import matplotlib.pyplot as plt #chia theo số thập phânphân\n",
        "import numpy as np\n",
        "N=16\n",
        "x=np.linspace(0,15,16)\n",
        "y=np.logspace(0.1,2,16)\n",
        "plt.plot(x,y,'--o')\n",
        "plt.grid('on')\n",
        "plt.show"
      ],
      "metadata": {
        "id": "FiDTkFL-lLVO"
      },
      "execution_count": null,
      "outputs": []
    },
    {
      "cell_type": "code",
      "source": [
        "import matplotlib.pyplot as plt #chia theo số thập phânphân\n",
        "import numpy as np\n",
        "x=[4,5,3,1,6,7]\n",
        "plt.plot(x)\n",
        "plt.show()"
      ],
      "metadata": {
        "id": "k862bBs1lOBc"
      },
      "execution_count": null,
      "outputs": []
    },
    {
      "cell_type": "code",
      "source": [
        "import matplotlib.pyplot as plt #chia theo số thập phânphân\n",
        "import numpy as np\n",
        "x=np.arange(25)\n",
        "plt.plot(x)\n",
        "plt.show()"
      ],
      "metadata": {
        "id": "A6FAsPaYlP1g"
      },
      "execution_count": null,
      "outputs": []
    },
    {
      "cell_type": "code",
      "source": [
        "import matplotlib.pyplot as plt #chia theo số thập phânphân\n",
        "import numpy as np\n",
        "x=np.arange(25)\n",
        "plt.plot(x,(x**3+1))\n",
        "plt.show"
      ],
      "metadata": {
        "id": "mQPrK1NplR4S"
      },
      "execution_count": null,
      "outputs": []
    },
    {
      "cell_type": "code",
      "source": [
        "import matplotlib.pyplot as plt #chia theo số thập phânphân\n",
        "import numpy as np\n",
        "x=np.arange(7)\n",
        "plt.plot(x,-x**2)\n",
        "plt.plot(x,-x**3)\n",
        "plt.plot(x,-2*x)\n",
        "plt.plot(x,-2**x)\n",
        "#plt.plot(x,-x**2,x,-x**3,x,-2*x,x,-2**x)\n",
        "plt.show"
      ],
      "metadata": {
        "id": "303Dl62ilVRx"
      },
      "execution_count": null,
      "outputs": []
    },
    {
      "cell_type": "code",
      "source": [
        "x=np.arange(7)\n",
        "plt.plot(x,-x**2,x,-x**3,x,-2*x,x,-2**x) #(,'-',)\n",
        "plt.grid(True)\n",
        "plt.savefig('hongtuoi.png')\n",
        "plt.show"
      ],
      "metadata": {
        "id": "ccVB7NXmlY2h"
      },
      "execution_count": null,
      "outputs": []
    },
    {
      "cell_type": "code",
      "source": [
        "import matplotlib.pyplot as plt #chia theo số thập phânphân\n",
        "import numpy as np\n",
        "x=np.arange(3)\n",
        "plt.subplots_adjust(wspace=0.3,hspace=0.3)\n",
        "plt.subplot(2,2,1)\n",
        "plt.plot(x,-x**2, color='g')\n",
        "plt.subplot(2,2,2)\n",
        "plt.plot(x,-x**3, color='r')\n",
        "plt.subplot(2,2,3)\n",
        "plt.plot(x,-2*x,color='b')\n",
        "plt.subplot(2,2,4)\n",
        "plt.plot(x,-2**x,'o')\n",
        "plt.show()"
      ],
      "metadata": {
        "id": "7ChtkFmSlazk"
      },
      "execution_count": null,
      "outputs": []
    },
    {
      "cell_type": "code",
      "source": [
        "import matplotlib.pyplot as plt #chia theo số thập phânphân\n",
        "import numpy as np\n",
        "plt.axis([0,100,0,10])\n",
        "plt. scatter(20,5,s=1000,color='black',alpha=1)\n",
        "plt.scatter(60,5,s=1000, color='black',alpha=0.5)\n",
        "plt.scatter(80,5, s=1000, color='black',alpha=0.1)\n",
        "plt.show()"
      ],
      "metadata": {
        "id": "89O8CzBslciE"
      },
      "execution_count": null,
      "outputs": []
    },
    {
      "cell_type": "code",
      "source": [
        "import matplotlib.pyplot as plt \n",
        "import numpy as np\n",
        "plt.plot([2,4],[1,3], linewidth=5, color='r')\n",
        "plt.text(5,7,'Text')\n",
        "plt.show"
      ],
      "metadata": {
        "id": "s07N5B9slevi"
      },
      "execution_count": null,
      "outputs": []
    },
    {
      "cell_type": "code",
      "source": [
        "import matplotlib.pyplot as plt \n",
        "import numpy as np\n",
        "plt.axis([0,20, 0,20])\n",
        "plt.arrow(8,2,-6,5, head_length=4, head_width=2, color='g')"
      ],
      "metadata": {
        "id": "MhArGK4TlpsN"
      },
      "execution_count": null,
      "outputs": []
    },
    {
      "cell_type": "code",
      "source": [
        "import matplotlib.pyplot as plt \n",
        "import numpy as np\n",
        "x=np.arange(4)\n",
        "y=np.random.rand()\n",
        "plt.bar(x,y)\n",
        "plt.show()"
      ],
      "metadata": {
        "id": "yGlWc_L4lqT6"
      },
      "execution_count": null,
      "outputs": []
    },
    {
      "cell_type": "code",
      "source": [
        "import matplotlib.pyplot as plt \n",
        "import numpy as np\n",
        "x=np.arange(4)\n",
        "y=np.random.rand()\n",
        "plt.barh(x,y)\n",
        "plt.show()"
      ],
      "metadata": {
        "id": "bjEbw6X4lsE8"
      },
      "execution_count": null,
      "outputs": []
    },
    {
      "cell_type": "code",
      "source": [
        "y=np.random.rand(3,4)\n",
        "plt.bar(x+0,y[0], color='b',width=0.25)\n",
        "plt.bar(x+0.25,y[1], color='y', width=0.25)\n",
        "plt.bar(x+0.5,y[2], color='r', width=0.23)\n",
        "plt.show()"
      ],
      "metadata": {
        "id": "ksc1gInQluFZ"
      },
      "execution_count": null,
      "outputs": []
    },
    {
      "cell_type": "code",
      "source": [
        "import matplotlib.pyplot as plt \n",
        "import numpy as np\n",
        "N=1000\n",
        "x=np.random.rand(N)\n",
        "y=np.random.rand(N)\n",
        "color=np.random.rand(N)\n",
        "size =20\n",
        "plt.scatter(x,y,s=size,c=color,alpha=1)\n",
        "plt.show()"
      ],
      "metadata": {
        "id": "7mxRvadJlv3q"
      },
      "execution_count": null,
      "outputs": []
    }
  ]
}