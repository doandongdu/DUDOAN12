{
  "nbformat": 4,
  "nbformat_minor": 0,
  "metadata": {
    "colab": {
      "provenance": [],
      "authorship_tag": "ABX9TyPihAHbarDF6KKLnl+P50TS",
      "include_colab_link": true
    },
    "kernelspec": {
      "name": "python3",
      "display_name": "Python 3"
    },
    "language_info": {
      "name": "python"
    }
  },
  "cells": [
    {
      "cell_type": "markdown",
      "metadata": {
        "id": "view-in-github",
        "colab_type": "text"
      },
      "source": [
        "<a href=\"https://colab.research.google.com/github/doandongdu/DUDOAN12/blob/main/RICE.ipynb\" target=\"_parent\"><img src=\"https://colab.research.google.com/assets/colab-badge.svg\" alt=\"Open In Colab\"/></a>"
      ]
    },
    {
      "cell_type": "code",
      "execution_count": null,
      "metadata": {
        "id": "RsfTqQRrQOlR"
      },
      "outputs": [],
      "source": [
        "import tensorflow as tf\n",
        "import matplotlib.pyplot as plt\n",
        "import numpy as np"
      ]
    },
    {
      "cell_type": "code",
      "source": [
        "from google.colab import drive\n",
        "drive.mount('/content/drive/')"
      ],
      "metadata": {
        "id": "6Af4gbzFcMK-",
        "colab": {
          "base_uri": "https://localhost:8080/"
        },
        "outputId": "52e65deb-f77a-44d1-d1a0-7b13acacb619"
      },
      "execution_count": null,
      "outputs": [
        {
          "output_type": "stream",
          "name": "stdout",
          "text": [
            "Mounted at /content/drive/\n"
          ]
        }
      ]
    },
    {
      "cell_type": "code",
      "source": [
        "import os\n",
        "train_image_files_path = '/content/drive/MyDrive/Gạo/Test'\n",
        "valid_image_files_path = '/content/drive/MyDrive/Gạo/Train'"
      ],
      "metadata": {
        "id": "s3yYVefAcMNS"
      },
      "execution_count": null,
      "outputs": []
    },
    {
      "cell_type": "code",
      "source": [
        "label = ['arbrio', 'basmati', 'ipsala', 'jasmine', 'karacadag']"
      ],
      "metadata": {
        "id": "6wrki9s8cMPj"
      },
      "execution_count": null,
      "outputs": []
    },
    {
      "cell_type": "code",
      "source": [
        "from tensorflow.keras.preprocessing.image import ImageDataGenerator\n",
        "train_data_gen = ImageDataGenerator(rescale = 1/255)\n",
        "validation_data_gen = ImageDataGenerator(rescale = 1/255)"
      ],
      "metadata": {
        "id": "KdHWUvbucMR5"
      },
      "execution_count": null,
      "outputs": []
    },
    {
      "cell_type": "code",
      "source": [
        "train_generator = train_data_gen.flow_from_directory(train_image_files_path, target_size = (200,200), class_mode = 'categorical')"
      ],
      "metadata": {
        "id": "3-7fE55NcMUP"
      },
      "execution_count": null,
      "outputs": []
    },
    {
      "cell_type": "code",
      "source": [
        "x_train,y_train = next(train_generator)"
      ],
      "metadata": {
        "id": "vrW4z0kCcMWq"
      },
      "execution_count": null,
      "outputs": []
    },
    {
      "cell_type": "code",
      "source": [
        "x_train.shape"
      ],
      "metadata": {
        "id": "0mPvgJDfcMbE",
        "colab": {
          "base_uri": "https://localhost:8080/"
        },
        "outputId": "c315b26d-4641-40f8-fa1c-1c3778fd01b7"
      },
      "execution_count": null,
      "outputs": [
        {
          "output_type": "execute_result",
          "data": {
            "text/plain": [
              "(32, 200, 200, 3)"
            ]
          },
          "metadata": {},
          "execution_count": 9
        }
      ]
    },
    {
      "cell_type": "code",
      "source": [
        "y_train.shape"
      ],
      "metadata": {
        "id": "PsVEnMQUckxF",
        "colab": {
          "base_uri": "https://localhost:8080/"
        },
        "outputId": "1a165f03-9daa-4580-f37c-344a7563980e"
      },
      "execution_count": null,
      "outputs": [
        {
          "output_type": "execute_result",
          "data": {
            "text/plain": [
              "(32, 5)"
            ]
          },
          "metadata": {},
          "execution_count": 10
        }
      ]
    },
    {
      "cell_type": "code",
      "source": [
        "x_train = x_train.reshape(32,120000)\n",
        "x_train = x_train.astype ('float32')\n",
        "x_train = x_train/255\n",
        "x_train.shape"
      ],
      "metadata": {
        "id": "aV5Hi7-2ckzr",
        "colab": {
          "base_uri": "https://localhost:8080/"
        },
        "outputId": "ebe55bab-4475-432c-8615-57e3e465446e"
      },
      "execution_count": null,
      "outputs": [
        {
          "output_type": "execute_result",
          "data": {
            "text/plain": [
              "(32, 120000)"
            ]
          },
          "metadata": {},
          "execution_count": 11
        }
      ]
    },
    {
      "cell_type": "code",
      "source": [
        "from keras import models\n",
        "from keras import layers\n",
        "model = models.Sequential()\n",
        "model.add(layers.Dense(512,activation = 'relu',input_shape = (120000,)))\n",
        "model.add(layers.Dense(5,activation = 'softmax'))\n",
        "model.summary()"
      ],
      "metadata": {
        "id": "AoCoW6sdck2T",
        "colab": {
          "base_uri": "https://localhost:8080/"
        },
        "outputId": "172bc8de-80b9-433e-84ea-41ea353d2bd0"
      },
      "execution_count": null,
      "outputs": [
        {
          "output_type": "stream",
          "name": "stdout",
          "text": [
            "Model: \"sequential_1\"\n",
            "_________________________________________________________________\n",
            " Layer (type)                Output Shape              Param #   \n",
            "=================================================================\n",
            " dense_2 (Dense)             (None, 512)               61440512  \n",
            "                                                                 \n",
            " dense_3 (Dense)             (None, 5)                 2565      \n",
            "                                                                 \n",
            "=================================================================\n",
            "Total params: 61,443,077\n",
            "Trainable params: 61,443,077\n",
            "Non-trainable params: 0\n",
            "_________________________________________________________________\n"
          ]
        }
      ]
    },
    {
      "cell_type": "code",
      "source": [
        "model.compile(optimizer=\"rmsprop\", loss = \"categorical_crossentropy\", metrics=[\"accuracy\"])"
      ],
      "metadata": {
        "id": "RVZfJQVnck4o"
      },
      "execution_count": null,
      "outputs": []
    },
    {
      "cell_type": "code",
      "source": [
        "model.fit(x_train, y_train, epochs = 200, batch_size = 128)"
      ],
      "metadata": {
        "id": "lcCq03kAcs-L",
        "colab": {
          "base_uri": "https://localhost:8080/"
        },
        "outputId": "4670651c-3d22-460a-a9f3-84b515e1c1d8"
      },
      "execution_count": null,
      "outputs": [
        {
          "output_type": "stream",
          "name": "stdout",
          "text": [
            "Epoch 1/200\n",
            "1/1 [==============================] - 2s 2s/step - loss: 1.6094 - accuracy: 0.1562\n",
            "Epoch 2/200\n",
            "1/1 [==============================] - 1s 553ms/step - loss: 1.4183 - accuracy: 0.4375\n",
            "Epoch 3/200\n",
            "1/1 [==============================] - 1s 636ms/step - loss: 1.1942 - accuracy: 0.6875\n",
            "Epoch 4/200\n",
            "1/1 [==============================] - 1s 566ms/step - loss: 1.0902 - accuracy: 0.5625\n",
            "Epoch 5/200\n",
            "1/1 [==============================] - 1s 557ms/step - loss: 1.0055 - accuracy: 0.7188\n",
            "Epoch 6/200\n",
            "1/1 [==============================] - 1s 601ms/step - loss: 0.8669 - accuracy: 0.6250\n",
            "Epoch 7/200\n",
            "1/1 [==============================] - 1s 567ms/step - loss: 0.7897 - accuracy: 0.9688\n",
            "Epoch 8/200\n",
            "1/1 [==============================] - 1s 548ms/step - loss: 0.7135 - accuracy: 0.7188\n",
            "Epoch 9/200\n",
            "1/1 [==============================] - 1s 551ms/step - loss: 0.6597 - accuracy: 1.0000\n",
            "Epoch 10/200\n",
            "1/1 [==============================] - 1s 566ms/step - loss: 0.6114 - accuracy: 0.7812\n",
            "Epoch 11/200\n",
            "1/1 [==============================] - 1s 559ms/step - loss: 0.5721 - accuracy: 0.9688\n",
            "Epoch 12/200\n",
            "1/1 [==============================] - 1s 549ms/step - loss: 0.5392 - accuracy: 0.8125\n",
            "Epoch 13/200\n",
            "1/1 [==============================] - 1s 579ms/step - loss: 0.5092 - accuracy: 0.9375\n",
            "Epoch 14/200\n",
            "1/1 [==============================] - 1s 562ms/step - loss: 0.4826 - accuracy: 0.8125\n",
            "Epoch 15/200\n",
            "1/1 [==============================] - 1s 564ms/step - loss: 0.4537 - accuracy: 0.9375\n",
            "Epoch 16/200\n",
            "1/1 [==============================] - 1s 555ms/step - loss: 0.4284 - accuracy: 0.8125\n",
            "Epoch 17/200\n",
            "1/1 [==============================] - 1s 600ms/step - loss: 0.3983 - accuracy: 0.9688\n",
            "Epoch 18/200\n",
            "1/1 [==============================] - 1s 570ms/step - loss: 0.3740 - accuracy: 0.9375\n",
            "Epoch 19/200\n",
            "1/1 [==============================] - 1s 553ms/step - loss: 0.3504 - accuracy: 0.9688\n",
            "Epoch 20/200\n",
            "1/1 [==============================] - 1s 533ms/step - loss: 0.3307 - accuracy: 0.9688\n",
            "Epoch 21/200\n",
            "1/1 [==============================] - 1s 575ms/step - loss: 0.3118 - accuracy: 0.9688\n",
            "Epoch 22/200\n",
            "1/1 [==============================] - 1s 555ms/step - loss: 0.2961 - accuracy: 0.9688\n",
            "Epoch 23/200\n",
            "1/1 [==============================] - 1s 552ms/step - loss: 0.2814 - accuracy: 0.9688\n",
            "Epoch 24/200\n",
            "1/1 [==============================] - 1s 574ms/step - loss: 0.2690 - accuracy: 0.9688\n",
            "Epoch 25/200\n",
            "1/1 [==============================] - 1s 559ms/step - loss: 0.2566 - accuracy: 0.9688\n",
            "Epoch 26/200\n",
            "1/1 [==============================] - 1s 570ms/step - loss: 0.2464 - accuracy: 0.9688\n",
            "Epoch 27/200\n",
            "1/1 [==============================] - 1s 557ms/step - loss: 0.2337 - accuracy: 0.9688\n",
            "Epoch 28/200\n",
            "1/1 [==============================] - 1s 577ms/step - loss: 0.2218 - accuracy: 0.9688\n",
            "Epoch 29/200\n",
            "1/1 [==============================] - 1s 561ms/step - loss: 0.2089 - accuracy: 1.0000\n",
            "Epoch 30/200\n",
            "1/1 [==============================] - 1s 577ms/step - loss: 0.1979 - accuracy: 0.9688\n",
            "Epoch 31/200\n",
            "1/1 [==============================] - 1s 576ms/step - loss: 0.1867 - accuracy: 1.0000\n",
            "Epoch 32/200\n",
            "1/1 [==============================] - 1s 534ms/step - loss: 0.1773 - accuracy: 1.0000\n",
            "Epoch 33/200\n",
            "1/1 [==============================] - 1s 557ms/step - loss: 0.1683 - accuracy: 1.0000\n",
            "Epoch 34/200\n",
            "1/1 [==============================] - 1s 560ms/step - loss: 0.1610 - accuracy: 1.0000\n",
            "Epoch 35/200\n",
            "1/1 [==============================] - 1s 564ms/step - loss: 0.1537 - accuracy: 1.0000\n",
            "Epoch 36/200\n",
            "1/1 [==============================] - 1s 539ms/step - loss: 0.1481 - accuracy: 1.0000\n",
            "Epoch 37/200\n",
            "1/1 [==============================] - 1s 573ms/step - loss: 0.1416 - accuracy: 1.0000\n",
            "Epoch 38/200\n",
            "1/1 [==============================] - 1s 526ms/step - loss: 0.1368 - accuracy: 1.0000\n",
            "Epoch 39/200\n",
            "1/1 [==============================] - 1s 552ms/step - loss: 0.1306 - accuracy: 1.0000\n",
            "Epoch 40/200\n",
            "1/1 [==============================] - 1s 547ms/step - loss: 0.1254 - accuracy: 1.0000\n",
            "Epoch 41/200\n",
            "1/1 [==============================] - 1s 548ms/step - loss: 0.1191 - accuracy: 1.0000\n",
            "Epoch 42/200\n",
            "1/1 [==============================] - 1s 543ms/step - loss: 0.1135 - accuracy: 1.0000\n",
            "Epoch 43/200\n",
            "1/1 [==============================] - 1s 550ms/step - loss: 0.1071 - accuracy: 1.0000\n",
            "Epoch 44/200\n",
            "1/1 [==============================] - 1s 563ms/step - loss: 0.1015 - accuracy: 1.0000\n",
            "Epoch 45/200\n",
            "1/1 [==============================] - 1s 548ms/step - loss: 0.0961 - accuracy: 1.0000\n",
            "Epoch 46/200\n",
            "1/1 [==============================] - 1s 583ms/step - loss: 0.0916 - accuracy: 1.0000\n",
            "Epoch 47/200\n",
            "1/1 [==============================] - 1s 589ms/step - loss: 0.0872 - accuracy: 1.0000\n",
            "Epoch 48/200\n",
            "1/1 [==============================] - 1s 600ms/step - loss: 0.0837 - accuracy: 1.0000\n",
            "Epoch 49/200\n",
            "1/1 [==============================] - 1s 570ms/step - loss: 0.0801 - accuracy: 1.0000\n",
            "Epoch 50/200\n",
            "1/1 [==============================] - 1s 631ms/step - loss: 0.0773 - accuracy: 1.0000\n",
            "Epoch 51/200\n",
            "1/1 [==============================] - 1s 590ms/step - loss: 0.0743 - accuracy: 1.0000\n",
            "Epoch 52/200\n",
            "1/1 [==============================] - 1s 585ms/step - loss: 0.0720 - accuracy: 1.0000\n",
            "Epoch 53/200\n",
            "1/1 [==============================] - 1s 594ms/step - loss: 0.0693 - accuracy: 1.0000\n",
            "Epoch 54/200\n",
            "1/1 [==============================] - 1s 554ms/step - loss: 0.0670 - accuracy: 1.0000\n",
            "Epoch 55/200\n",
            "1/1 [==============================] - 1s 552ms/step - loss: 0.0638 - accuracy: 1.0000\n",
            "Epoch 56/200\n",
            "1/1 [==============================] - 1s 541ms/step - loss: 0.0609 - accuracy: 1.0000\n",
            "Epoch 57/200\n",
            "1/1 [==============================] - 1s 563ms/step - loss: 0.0576 - accuracy: 1.0000\n",
            "Epoch 58/200\n",
            "1/1 [==============================] - 1s 570ms/step - loss: 0.0544 - accuracy: 1.0000\n",
            "Epoch 59/200\n",
            "1/1 [==============================] - 1s 560ms/step - loss: 0.0512 - accuracy: 1.0000\n",
            "Epoch 60/200\n",
            "1/1 [==============================] - 1s 600ms/step - loss: 0.0484 - accuracy: 1.0000\n",
            "Epoch 61/200\n",
            "1/1 [==============================] - 1s 585ms/step - loss: 0.0458 - accuracy: 1.0000\n",
            "Epoch 62/200\n",
            "1/1 [==============================] - 1s 560ms/step - loss: 0.0435 - accuracy: 1.0000\n",
            "Epoch 63/200\n",
            "1/1 [==============================] - 1s 603ms/step - loss: 0.0414 - accuracy: 1.0000\n",
            "Epoch 64/200\n",
            "1/1 [==============================] - 1s 576ms/step - loss: 0.0397 - accuracy: 1.0000\n",
            "Epoch 65/200\n",
            "1/1 [==============================] - 1s 567ms/step - loss: 0.0380 - accuracy: 1.0000\n",
            "Epoch 66/200\n",
            "1/1 [==============================] - 1s 583ms/step - loss: 0.0367 - accuracy: 1.0000\n",
            "Epoch 67/200\n",
            "1/1 [==============================] - 1s 574ms/step - loss: 0.0355 - accuracy: 1.0000\n",
            "Epoch 68/200\n",
            "1/1 [==============================] - 1s 583ms/step - loss: 0.0347 - accuracy: 1.0000\n",
            "Epoch 69/200\n",
            "1/1 [==============================] - 1s 558ms/step - loss: 0.0337 - accuracy: 1.0000\n",
            "Epoch 70/200\n",
            "1/1 [==============================] - 1s 594ms/step - loss: 0.0329 - accuracy: 1.0000\n",
            "Epoch 71/200\n",
            "1/1 [==============================] - 1s 567ms/step - loss: 0.0318 - accuracy: 1.0000\n",
            "Epoch 72/200\n",
            "1/1 [==============================] - 1s 587ms/step - loss: 0.0307 - accuracy: 1.0000\n",
            "Epoch 73/200\n",
            "1/1 [==============================] - 1s 582ms/step - loss: 0.0291 - accuracy: 1.0000\n",
            "Epoch 74/200\n",
            "1/1 [==============================] - 1s 553ms/step - loss: 0.0273 - accuracy: 1.0000\n",
            "Epoch 75/200\n",
            "1/1 [==============================] - 1s 597ms/step - loss: 0.0252 - accuracy: 1.0000\n",
            "Epoch 76/200\n",
            "1/1 [==============================] - 1s 581ms/step - loss: 0.0234 - accuracy: 1.0000\n",
            "Epoch 77/200\n",
            "1/1 [==============================] - 1s 562ms/step - loss: 0.0218 - accuracy: 1.0000\n",
            "Epoch 78/200\n",
            "1/1 [==============================] - 1s 554ms/step - loss: 0.0204 - accuracy: 1.0000\n",
            "Epoch 79/200\n",
            "1/1 [==============================] - 1s 552ms/step - loss: 0.0192 - accuracy: 1.0000\n",
            "Epoch 80/200\n",
            "1/1 [==============================] - 1s 580ms/step - loss: 0.0182 - accuracy: 1.0000\n",
            "Epoch 81/200\n",
            "1/1 [==============================] - 1s 569ms/step - loss: 0.0173 - accuracy: 1.0000\n",
            "Epoch 82/200\n",
            "1/1 [==============================] - 1s 584ms/step - loss: 0.0165 - accuracy: 1.0000\n",
            "Epoch 83/200\n",
            "1/1 [==============================] - 1s 562ms/step - loss: 0.0158 - accuracy: 1.0000\n",
            "Epoch 84/200\n",
            "1/1 [==============================] - 1s 698ms/step - loss: 0.0151 - accuracy: 1.0000\n",
            "Epoch 85/200\n",
            "1/1 [==============================] - 1s 838ms/step - loss: 0.0145 - accuracy: 1.0000\n",
            "Epoch 86/200\n",
            "1/1 [==============================] - 1s 857ms/step - loss: 0.0140 - accuracy: 1.0000\n",
            "Epoch 87/200\n",
            "1/1 [==============================] - 1s 866ms/step - loss: 0.0136 - accuracy: 1.0000\n",
            "Epoch 88/200\n",
            "1/1 [==============================] - 1s 882ms/step - loss: 0.0133 - accuracy: 1.0000\n",
            "Epoch 89/200\n",
            "1/1 [==============================] - 1s 816ms/step - loss: 0.0131 - accuracy: 1.0000\n",
            "Epoch 90/200\n",
            "1/1 [==============================] - 1s 553ms/step - loss: 0.0132 - accuracy: 1.0000\n",
            "Epoch 91/200\n",
            "1/1 [==============================] - 1s 548ms/step - loss: 0.0133 - accuracy: 1.0000\n",
            "Epoch 92/200\n",
            "1/1 [==============================] - 1s 571ms/step - loss: 0.0135 - accuracy: 1.0000\n",
            "Epoch 93/200\n",
            "1/1 [==============================] - 1s 555ms/step - loss: 0.0134 - accuracy: 1.0000\n",
            "Epoch 94/200\n",
            "1/1 [==============================] - 1s 562ms/step - loss: 0.0128 - accuracy: 1.0000\n",
            "Epoch 95/200\n",
            "1/1 [==============================] - 1s 547ms/step - loss: 0.0116 - accuracy: 1.0000\n",
            "Epoch 96/200\n",
            "1/1 [==============================] - 1s 563ms/step - loss: 0.0101 - accuracy: 1.0000\n",
            "Epoch 97/200\n",
            "1/1 [==============================] - 1s 572ms/step - loss: 0.0088 - accuracy: 1.0000\n",
            "Epoch 98/200\n",
            "1/1 [==============================] - 1s 576ms/step - loss: 0.0079 - accuracy: 1.0000\n",
            "Epoch 99/200\n",
            "1/1 [==============================] - 1s 594ms/step - loss: 0.0073 - accuracy: 1.0000\n",
            "Epoch 100/200\n",
            "1/1 [==============================] - 1s 560ms/step - loss: 0.0069 - accuracy: 1.0000\n",
            "Epoch 101/200\n",
            "1/1 [==============================] - 1s 579ms/step - loss: 0.0066 - accuracy: 1.0000\n",
            "Epoch 102/200\n",
            "1/1 [==============================] - 1s 580ms/step - loss: 0.0063 - accuracy: 1.0000\n",
            "Epoch 103/200\n",
            "1/1 [==============================] - 1s 588ms/step - loss: 0.0060 - accuracy: 1.0000\n",
            "Epoch 104/200\n",
            "1/1 [==============================] - 1s 557ms/step - loss: 0.0058 - accuracy: 1.0000\n",
            "Epoch 105/200\n",
            "1/1 [==============================] - 1s 574ms/step - loss: 0.0055 - accuracy: 1.0000\n",
            "Epoch 106/200\n",
            "1/1 [==============================] - 1s 585ms/step - loss: 0.0053 - accuracy: 1.0000\n",
            "Epoch 107/200\n",
            "1/1 [==============================] - 1s 558ms/step - loss: 0.0051 - accuracy: 1.0000\n",
            "Epoch 108/200\n",
            "1/1 [==============================] - 1s 588ms/step - loss: 0.0049 - accuracy: 1.0000\n",
            "Epoch 109/200\n",
            "1/1 [==============================] - 1s 552ms/step - loss: 0.0047 - accuracy: 1.0000\n",
            "Epoch 110/200\n",
            "1/1 [==============================] - 1s 570ms/step - loss: 0.0045 - accuracy: 1.0000\n",
            "Epoch 111/200\n",
            "1/1 [==============================] - 1s 550ms/step - loss: 0.0043 - accuracy: 1.0000\n",
            "Epoch 112/200\n",
            "1/1 [==============================] - 1s 577ms/step - loss: 0.0041 - accuracy: 1.0000\n",
            "Epoch 113/200\n",
            "1/1 [==============================] - 1s 576ms/step - loss: 0.0039 - accuracy: 1.0000\n",
            "Epoch 114/200\n",
            "1/1 [==============================] - 1s 602ms/step - loss: 0.0038 - accuracy: 1.0000\n",
            "Epoch 115/200\n",
            "1/1 [==============================] - 1s 601ms/step - loss: 0.0036 - accuracy: 1.0000\n",
            "Epoch 116/200\n",
            "1/1 [==============================] - 1s 579ms/step - loss: 0.0035 - accuracy: 1.0000\n",
            "Epoch 117/200\n",
            "1/1 [==============================] - 1s 558ms/step - loss: 0.0034 - accuracy: 1.0000\n",
            "Epoch 118/200\n",
            "1/1 [==============================] - 1s 574ms/step - loss: 0.0033 - accuracy: 1.0000\n",
            "Epoch 119/200\n",
            "1/1 [==============================] - 1s 599ms/step - loss: 0.0032 - accuracy: 1.0000\n",
            "Epoch 120/200\n",
            "1/1 [==============================] - 1s 575ms/step - loss: 0.0032 - accuracy: 1.0000\n",
            "Epoch 121/200\n",
            "1/1 [==============================] - 1s 560ms/step - loss: 0.0033 - accuracy: 1.0000\n",
            "Epoch 122/200\n",
            "1/1 [==============================] - 1s 561ms/step - loss: 0.0034 - accuracy: 1.0000\n",
            "Epoch 123/200\n",
            "1/1 [==============================] - 1s 582ms/step - loss: 0.0036 - accuracy: 1.0000\n",
            "Epoch 124/200\n",
            "1/1 [==============================] - 1s 574ms/step - loss: 0.0037 - accuracy: 1.0000\n",
            "Epoch 125/200\n",
            "1/1 [==============================] - 1s 558ms/step - loss: 0.0036 - accuracy: 1.0000\n",
            "Epoch 126/200\n",
            "1/1 [==============================] - 1s 588ms/step - loss: 0.0031 - accuracy: 1.0000\n",
            "Epoch 127/200\n",
            "1/1 [==============================] - 1s 553ms/step - loss: 0.0026 - accuracy: 1.0000\n",
            "Epoch 128/200\n",
            "1/1 [==============================] - 1s 573ms/step - loss: 0.0021 - accuracy: 1.0000\n",
            "Epoch 129/200\n",
            "1/1 [==============================] - 1s 573ms/step - loss: 0.0018 - accuracy: 1.0000\n",
            "Epoch 130/200\n",
            "1/1 [==============================] - 1s 575ms/step - loss: 0.0017 - accuracy: 1.0000\n",
            "Epoch 131/200\n",
            "1/1 [==============================] - 1s 552ms/step - loss: 0.0016 - accuracy: 1.0000\n",
            "Epoch 132/200\n",
            "1/1 [==============================] - 1s 560ms/step - loss: 0.0016 - accuracy: 1.0000\n",
            "Epoch 133/200\n",
            "1/1 [==============================] - 1s 566ms/step - loss: 0.0015 - accuracy: 1.0000\n",
            "Epoch 134/200\n",
            "1/1 [==============================] - 1s 547ms/step - loss: 0.0015 - accuracy: 1.0000\n",
            "Epoch 135/200\n",
            "1/1 [==============================] - 1s 572ms/step - loss: 0.0014 - accuracy: 1.0000\n",
            "Epoch 136/200\n",
            "1/1 [==============================] - 1s 553ms/step - loss: 0.0014 - accuracy: 1.0000\n",
            "Epoch 137/200\n",
            "1/1 [==============================] - 1s 554ms/step - loss: 0.0013 - accuracy: 1.0000\n",
            "Epoch 138/200\n",
            "1/1 [==============================] - 1s 547ms/step - loss: 0.0013 - accuracy: 1.0000\n",
            "Epoch 139/200\n",
            "1/1 [==============================] - 1s 558ms/step - loss: 0.0012 - accuracy: 1.0000\n",
            "Epoch 140/200\n",
            "1/1 [==============================] - 1s 588ms/step - loss: 0.0012 - accuracy: 1.0000\n",
            "Epoch 141/200\n",
            "1/1 [==============================] - 1s 593ms/step - loss: 0.0011 - accuracy: 1.0000\n",
            "Epoch 142/200\n",
            "1/1 [==============================] - 1s 585ms/step - loss: 0.0011 - accuracy: 1.0000\n",
            "Epoch 143/200\n",
            "1/1 [==============================] - 1s 556ms/step - loss: 0.0010 - accuracy: 1.0000\n",
            "Epoch 144/200\n",
            "1/1 [==============================] - 1s 574ms/step - loss: 9.8467e-04 - accuracy: 1.0000\n",
            "Epoch 145/200\n",
            "1/1 [==============================] - 1s 554ms/step - loss: 9.4516e-04 - accuracy: 1.0000\n",
            "Epoch 146/200\n",
            "1/1 [==============================] - 1s 561ms/step - loss: 9.0723e-04 - accuracy: 1.0000\n",
            "Epoch 147/200\n",
            "1/1 [==============================] - 1s 550ms/step - loss: 8.7085e-04 - accuracy: 1.0000\n",
            "Epoch 148/200\n",
            "1/1 [==============================] - 1s 564ms/step - loss: 8.3603e-04 - accuracy: 1.0000\n",
            "Epoch 149/200\n",
            "1/1 [==============================] - 1s 544ms/step - loss: 8.0246e-04 - accuracy: 1.0000\n",
            "Epoch 150/200\n",
            "1/1 [==============================] - 1s 557ms/step - loss: 7.7053e-04 - accuracy: 1.0000\n",
            "Epoch 151/200\n",
            "1/1 [==============================] - 1s 568ms/step - loss: 7.3953e-04 - accuracy: 1.0000\n",
            "Epoch 152/200\n",
            "1/1 [==============================] - 1s 576ms/step - loss: 7.1036e-04 - accuracy: 1.0000\n",
            "Epoch 153/200\n",
            "1/1 [==============================] - 1s 585ms/step - loss: 6.8155e-04 - accuracy: 1.0000\n",
            "Epoch 154/200\n",
            "1/1 [==============================] - 1s 626ms/step - loss: 6.5476e-04 - accuracy: 1.0000\n",
            "Epoch 155/200\n",
            "1/1 [==============================] - 1s 600ms/step - loss: 6.2786e-04 - accuracy: 1.0000\n",
            "Epoch 156/200\n",
            "1/1 [==============================] - 1s 592ms/step - loss: 6.0383e-04 - accuracy: 1.0000\n",
            "Epoch 157/200\n",
            "1/1 [==============================] - 1s 595ms/step - loss: 5.7877e-04 - accuracy: 1.0000\n",
            "Epoch 158/200\n",
            "1/1 [==============================] - 1s 572ms/step - loss: 5.5696e-04 - accuracy: 1.0000\n",
            "Epoch 159/200\n",
            "1/1 [==============================] - 1s 560ms/step - loss: 5.3380e-04 - accuracy: 1.0000\n",
            "Epoch 160/200\n",
            "1/1 [==============================] - 1s 570ms/step - loss: 5.1395e-04 - accuracy: 1.0000\n",
            "Epoch 161/200\n",
            "1/1 [==============================] - 1s 587ms/step - loss: 4.9173e-04 - accuracy: 1.0000\n",
            "Epoch 162/200\n",
            "1/1 [==============================] - 1s 590ms/step - loss: 4.7292e-04 - accuracy: 1.0000\n",
            "Epoch 163/200\n",
            "1/1 [==============================] - 1s 550ms/step - loss: 4.5225e-04 - accuracy: 1.0000\n",
            "Epoch 164/200\n",
            "1/1 [==============================] - 1s 575ms/step - loss: 4.3462e-04 - accuracy: 1.0000\n",
            "Epoch 165/200\n",
            "1/1 [==============================] - 1s 578ms/step - loss: 4.1580e-04 - accuracy: 1.0000\n",
            "Epoch 166/200\n",
            "1/1 [==============================] - 1s 611ms/step - loss: 3.9933e-04 - accuracy: 1.0000\n",
            "Epoch 167/200\n",
            "1/1 [==============================] - 1s 571ms/step - loss: 3.8197e-04 - accuracy: 1.0000\n",
            "Epoch 168/200\n",
            "1/1 [==============================] - 1s 590ms/step - loss: 3.6716e-04 - accuracy: 1.0000\n",
            "Epoch 169/200\n",
            "1/1 [==============================] - 1s 558ms/step - loss: 3.5130e-04 - accuracy: 1.0000\n",
            "Epoch 170/200\n",
            "1/1 [==============================] - 1s 560ms/step - loss: 3.3753e-04 - accuracy: 1.0000\n",
            "Epoch 171/200\n",
            "1/1 [==============================] - 1s 600ms/step - loss: 3.2298e-04 - accuracy: 1.0000\n",
            "Epoch 172/200\n",
            "1/1 [==============================] - 1s 575ms/step - loss: 3.0991e-04 - accuracy: 1.0000\n",
            "Epoch 173/200\n",
            "1/1 [==============================] - 1s 569ms/step - loss: 2.9672e-04 - accuracy: 1.0000\n",
            "Epoch 174/200\n",
            "1/1 [==============================] - 1s 587ms/step - loss: 2.8486e-04 - accuracy: 1.0000\n",
            "Epoch 175/200\n",
            "1/1 [==============================] - 1s 604ms/step - loss: 2.7290e-04 - accuracy: 1.0000\n",
            "Epoch 176/200\n",
            "1/1 [==============================] - 1s 577ms/step - loss: 2.6210e-04 - accuracy: 1.0000\n",
            "Epoch 177/200\n",
            "1/1 [==============================] - 1s 554ms/step - loss: 2.5136e-04 - accuracy: 1.0000\n",
            "Epoch 178/200\n",
            "1/1 [==============================] - 1s 589ms/step - loss: 2.4144e-04 - accuracy: 1.0000\n",
            "Epoch 179/200\n",
            "1/1 [==============================] - 1s 561ms/step - loss: 2.3169e-04 - accuracy: 1.0000\n",
            "Epoch 180/200\n",
            "1/1 [==============================] - 1s 579ms/step - loss: 2.2265e-04 - accuracy: 1.0000\n",
            "Epoch 181/200\n",
            "1/1 [==============================] - 1s 558ms/step - loss: 2.1377e-04 - accuracy: 1.0000\n",
            "Epoch 182/200\n",
            "1/1 [==============================] - 1s 571ms/step - loss: 2.0555e-04 - accuracy: 1.0000\n",
            "Epoch 183/200\n",
            "1/1 [==============================] - 1s 562ms/step - loss: 1.9734e-04 - accuracy: 1.0000\n",
            "Epoch 184/200\n",
            "1/1 [==============================] - 1s 590ms/step - loss: 1.8966e-04 - accuracy: 1.0000\n",
            "Epoch 185/200\n",
            "1/1 [==============================] - 1s 561ms/step - loss: 1.8209e-04 - accuracy: 1.0000\n",
            "Epoch 186/200\n",
            "1/1 [==============================] - 1s 539ms/step - loss: 1.7501e-04 - accuracy: 1.0000\n",
            "Epoch 187/200\n",
            "1/1 [==============================] - 1s 567ms/step - loss: 1.6816e-04 - accuracy: 1.0000\n",
            "Epoch 188/200\n",
            "1/1 [==============================] - 1s 542ms/step - loss: 1.6165e-04 - accuracy: 1.0000\n",
            "Epoch 189/200\n",
            "1/1 [==============================] - 1s 567ms/step - loss: 1.5539e-04 - accuracy: 1.0000\n",
            "Epoch 190/200\n",
            "1/1 [==============================] - 1s 549ms/step - loss: 1.4942e-04 - accuracy: 1.0000\n",
            "Epoch 191/200\n",
            "1/1 [==============================] - 1s 565ms/step - loss: 1.4370e-04 - accuracy: 1.0000\n",
            "Epoch 192/200\n",
            "1/1 [==============================] - 1s 560ms/step - loss: 1.3819e-04 - accuracy: 1.0000\n",
            "Epoch 193/200\n",
            "1/1 [==============================] - 1s 552ms/step - loss: 1.3286e-04 - accuracy: 1.0000\n",
            "Epoch 194/200\n",
            "1/1 [==============================] - 1s 551ms/step - loss: 1.2781e-04 - accuracy: 1.0000\n",
            "Epoch 195/200\n",
            "1/1 [==============================] - 1s 559ms/step - loss: 1.2286e-04 - accuracy: 1.0000\n",
            "Epoch 196/200\n",
            "1/1 [==============================] - 1s 552ms/step - loss: 1.1819e-04 - accuracy: 1.0000\n",
            "Epoch 197/200\n",
            "1/1 [==============================] - 1s 548ms/step - loss: 1.1369e-04 - accuracy: 1.0000\n",
            "Epoch 198/200\n",
            "1/1 [==============================] - 1s 564ms/step - loss: 1.0937e-04 - accuracy: 1.0000\n",
            "Epoch 199/200\n",
            "1/1 [==============================] - 1s 542ms/step - loss: 1.0520e-04 - accuracy: 1.0000\n",
            "Epoch 200/200\n",
            "1/1 [==============================] - 1s 559ms/step - loss: 1.0123e-04 - accuracy: 1.0000\n"
          ]
        },
        {
          "output_type": "execute_result",
          "data": {
            "text/plain": [
              "<keras.callbacks.History at 0x7f5c8a10fd50>"
            ]
          },
          "metadata": {},
          "execution_count": 17
        }
      ]
    },
    {
      "cell_type": "code",
      "source": [
        "model.save('nhan_dien_gao.h5')"
      ],
      "metadata": {
        "id": "ykeNH0kbctAr"
      },
      "execution_count": null,
      "outputs": []
    },
    {
      "cell_type": "code",
      "source": [
        "from keras.utils import load_img\n",
        "from keras.utils import img_to_array,load_img\n",
        "import matplotlib.pyplot as plt\n",
        "import numpy as np\n",
        "from keras.models import load_model\n",
        "img = load_img('/content/drive/MyDrive/Gạo/Train/Jasmine/Jasmine (12).jpg', target_size = (200,200))\n",
        "plt.imshow(img)\n",
        "img = img_to_array(img)\n",
        "img = img.astype('float32')\n",
        "img= img.reshape(1, 200*200*3)\n",
        "img = img/255\n",
        "print(model.predict(img))\n",
        "a = int(np.argmax(model.predict(img), axis = 1))\n",
        "print(\"Đây là gạo \", label[a])"
      ],
      "metadata": {
        "id": "xVRlZyJ-ctDB",
        "colab": {
          "base_uri": "https://localhost:8080/",
          "height": 338
        },
        "outputId": "c94a7826-0570-46a2-c0d3-1c07425573e3"
      },
      "execution_count": null,
      "outputs": [
        {
          "output_type": "stream",
          "name": "stdout",
          "text": [
            "1/1 [==============================] - 0s 46ms/step\n",
            "[[0. 0. 0. 1. 0.]]\n",
            "1/1 [==============================] - 0s 50ms/step\n",
            "Đây là gạo  jasmine\n"
          ]
        },
        {
          "output_type": "display_data",
          "data": {
            "text/plain": [
              "<Figure size 432x288 with 1 Axes>"
            ],
            "image/png": "[encoded data removed]"
          },
          "metadata": {
            "needs_background": "light"
          }
        }
      ]
    },
    {
      "cell_type": "code",
      "source": [
        "from keras.utils import load_img\n",
        "from keras.utils import img_to_array,load_img\n",
        "import matplotlib.pyplot as plt\n",
        "import numpy as np\n",
        "from keras.models import load_model\n",
        "img = load_img('/content/drive/MyDrive/Gạo/Train/Karacadag/Karacadag (1).jpg', target_size = (200,200))\n",
        "plt.imshow(img)\n",
        "img = img_to_array(img)\n",
        "img = img.astype('float32')\n",
        "img= img.reshape(1, 200*200*3)\n",
        "img = img/255\n",
        "print(model.predict(img))\n",
        "a = int(np.argmax(model.predict(img), axis = 1))\n",
        "print(\"Đây là hoa:\", label[a])"
      ],
      "metadata": {
        "id": "jyiaHgwectFX",
        "colab": {
          "base_uri": "https://localhost:8080/",
          "height": 338
        },
        "outputId": "5405bc77-6784-40e7-8306-648a4ead6bd2"
      },
      "execution_count": null,
      "outputs": [
        {
          "output_type": "stream",
          "name": "stdout",
          "text": [
            "1/1 [==============================] - 0s 51ms/step\n",
            "[[0. 0. 0. 0. 1.]]\n",
            "1/1 [==============================] - 0s 47ms/step\n",
            "Đây là hoa: karacadag\n"
          ]
        },
        {
          "output_type": "display_data",
          "data": {
            "text/plain": [
              "<Figure size 432x288 with 1 Axes>"
            ],
            "image/png": "[encoded data removed]"
          },
          "metadata": {
            "needs_background": "light"
          }
        }
      ]
    }
  ]
}