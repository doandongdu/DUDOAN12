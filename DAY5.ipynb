{
  "nbformat": 4,
  "nbformat_minor": 0,
  "metadata": {
    "colab": {
      "provenance": [],
      "authorship_tag": "ABX9TyNS8KbeAyQY7XO1IEdSxprJ",
      "include_colab_link": true
    },
    "kernelspec": {
      "name": "python3",
      "display_name": "Python 3"
    },
    "language_info": {
      "name": "python"
    }
  },
  "cells": [
    {
      "cell_type": "markdown",
      "metadata": {
        "id": "view-in-github",
        "colab_type": "text"
      },
      "source": [
        "<a href=\"https://colab.research.google.com/github/doandongdu/DUDOAN12/blob/main/DAY5.ipynb\" target=\"_parent\"><img src=\"https://colab.research.google.com/assets/colab-badge.svg\" alt=\"Open In Colab\"/></a>"
      ]
    },
    {
      "cell_type": "code",
      "execution_count": null,
      "metadata": {
        "id": "reLjLT9mv7dG"
      },
      "outputs": [],
      "source": [
        "import numpy as np\n",
        "from sklearn.linear_model import Perception\n",
        "x = [[0,0],[1,0],[0,1],[1,1]]\n",
        "y = [0,1,1,1]\n",
        "model = Perception()\n",
        "model.fit(x,y)\n",
        "print('DO CHINH XAC:', )"
      ]
    },
    {
      "cell_type": "code",
      "source": [
        "import pandas as pd\n",
        "import numpy as np\n",
        "from sklearn.linear_model import Perceptron\n",
        "from sklearn.model_selection import train_test_split\n",
        "from sklearn.datasets import load_iris\n",
        "iris = load_iris()\n",
        "#print (iris)\n",
        "for n, i in enumerate(iris.target):\n",
        "  if i == 2:\n",
        "    iris.target[n] = 1\n",
        "x = iris.data\n",
        "y = iris.target\n",
        "x_train, x_test, y_train, y_test = train_test_split(x,y,test_size = 0.5)\n",
        "model = Perceptron()\n",
        "model.fit(x_train,y_train)\n",
        "print('Độ chính xác',model.score(x_test,y_test))\n",
        "x_test = [[5,4,2,0.5],[4,4,3,0.2]]\n",
        "y_test = model.predict(x_test)\n",
        "print(y_test)"
      ],
      "metadata": {
        "id": "PFpOJOXX3I0_"
      },
      "execution_count": null,
      "outputs": []
    },
    {
      "cell_type": "code",
      "source": [
        "import numpy as np\n",
        "from sklearn.linear_model import Perceptron\n",
        "from sklearn.model_selection import train_test_split \n",
        "from sklearn.datasets import load_iris\n",
        "import pandas as pd\n",
        "url = '/content/iris.csv'\n",
        "data = pd.read_csv(url)\n",
        "data = data[:100]\n",
        "x= data.drop(['variety'],axis = True)\n",
        "y= data['variety'].replace(['Setosa','Versicolor','Virginica'],[1,0,0])\n",
        "x_train,x_test,y_train,y_test = train_test_split(x,y,test_size = 0.3)\n",
        "model = Perceptron()\n",
        "model.fit(x_train,y_train)\n",
        "print('Độ chính xác', model.score(x_train,y_train))\n",
        "x_input = [[5.5,2.6,4.4,1.2],[5.8,4,1.2,0.2]]\n",
        "y_output = model.predict(x_input)\n",
        "print(y_output)"
      ],
      "metadata": {
        "id": "27k_Yx5B3LE2"
      },
      "execution_count": null,
      "outputs": []
    }
  ]
}