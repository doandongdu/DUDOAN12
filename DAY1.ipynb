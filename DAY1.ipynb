{
  "nbformat": 4,
  "nbformat_minor": 0,
  "metadata": {
    "colab": {
      "provenance": [],
      "authorship_tag": "ABX9TyMHgKVqyeXF5j+QX/XIUVVp",
      "include_colab_link": true
    },
    "kernelspec": {
      "name": "python3",
      "display_name": "Python 3"
    },
    "language_info": {
      "name": "python"
    }
  },
  "cells": [
    {
      "cell_type": "markdown",
      "metadata": {
        "id": "view-in-github",
        "colab_type": "text"
      },
      "source": [
        "<a href=\"https://colab.research.google.com/github/doandongdu/DUDOAN12/blob/main/DAY1.ipynb\" target=\"_parent\"><img src=\"https://colab.research.google.com/assets/colab-badge.svg\" alt=\"Open In Colab\"/></a>"
      ]
    },
    {
      "cell_type": "code",
      "execution_count": null,
      "metadata": {
        "id": "iwQWMLcfkXVs"
      },
      "outputs": [],
      "source": [
        "with open ('text.txt',mode='w') as accounts:\n",
        "  accounts.write('Doan Dong Du 8.0/n')\n"
      ]
    },
    {
      "cell_type": "code",
      "source": [],
      "metadata": {
        "id": "a7GSnJlrp36q"
      },
      "execution_count": null,
      "outputs": []
    },
    {
      "cell_type": "code",
      "source": [
        "with open ('text.dxt',mode='w') as accounts:\n",
        "  print('7:00 Doan Dong Du',file=accounts)"
      ],
      "metadata": {
        "id": "eAVRTQoLnr-j"
      },
      "execution_count": null,
      "outputs": []
    },
    {
      "cell_type": "code",
      "source": [
        "import pandas as pd\n",
        "url = 'DS.csv'\n",
        "dataframe = pd.read_csv(url)\n",
        "dataframe.head(8)"
      ],
      "metadata": {
        "id": "IA6K44OcoXta"
      },
      "execution_count": null,
      "outputs": []
    },
    {
      "cell_type": "code",
      "source": [
        "import pandas as pd\n",
        "dataframe = pd.DataFrame()\n",
        "dataframe['Name'] = ['han','ben']\n",
        "dataframe['Age'] = [10,25]\n",
        "dataframe"
      ],
      "metadata": {
        "id": "ORCHv3bhzTgA"
      },
      "execution_count": null,
      "outputs": []
    },
    {
      "cell_type": "code",
      "source": [
        "import pandas as pd\n",
        "url = '/content/DS.csv'\n",
        "dataframe = pd.read_csv(url)\n",
        "dataframe = dataframe.set_index(dataframe['He'])\n",
        "dataframe.loc['DT']"
      ],
      "metadata": {
        "id": "NrCZtjqMz-9d"
      },
      "execution_count": null,
      "outputs": []
    },
    {
      "cell_type": "code",
      "source": [
        "import pandas as pd\n",
        "url = '/content/DS.csv'\n",
        "dataframe = pd.read_csv(url)\n",
        "dataframe.loc[:8]\n",
        "dataframe['Diem'<=7] & dataframe['He']"
      ],
      "metadata": {
        "id": "TCXc_m1u4waR"
      },
      "execution_count": null,
      "outputs": []
    },
    {
      "cell_type": "code",
      "source": [
        "import pandas as pd\n",
        "url = '/content/DS.csv'\n",
        "dataframe = pd.read_csv(url)\n",
        "dataframe.drop('He', axis=1).head(8)"
      ],
      "metadata": {
        "id": "aWyfCgB28Dvr"
      },
      "execution_count": null,
      "outputs": []
    },
    {
      "cell_type": "code",
      "source": [
        "import pandas as pd\n",
        "url = '/content/DS.csv'\n",
        "dataframe = pd.read_csv(url)\n",
        "dataframe.groupby('Nam hoc').mean(17) \n",
        "dataframe.groupby('He').mean('DT')"
      ],
      "metadata": {
        "id": "FzhePbDa8ebW"
      },
      "execution_count": null,
      "outputs": []
    },
    {
      "cell_type": "code",
      "source": [
        "import pandas as pd\n",
        "url = 'http://winterolympicsmedals.com/medals.csv'\n",
        "data = pd.read_csv(url)\n",
        "data[(data['Medal'] == 'Gold') & (data['NOC'] == 'USA')]"
      ],
      "metadata": {
        "id": "iQ2aQ74h_esv"
      },
      "execution_count": null,
      "outputs": []
    }
  ]
}